{
 "cells": [
  {
   "cell_type": "code",
   "execution_count": null,
   "id": "a56eb4bd",
   "metadata": {},
   "outputs": [],
   "source": [
    "import gym\n",
    "import networkx as nx\n",
    "import time\n",
    "\n",
    "# Oyun ortamı\n",
    "env = gym.make('Taxi-v3', render_mode='human')\n",
    "env.reset()\n",
    "\n",
    "# Başlangıç durumu\n",
    "start_state = env.encode(2, 3, 1, 4)  # Taksi konumu (2, 3), yolcu konumu (1, 4), hedef konumu (1, 4)\n",
    "\n",
    "# Yönlü graf \n",
    "G = nx.DiGraph()\n",
    "\n",
    "# Durum tablosu \n",
    "for state in range(env.observation_space.n):\n",
    "    for action in range(env.action_space.n):\n",
    "        for prob, next_state, reward, done in env.P[state][action]:\n",
    "            G.add_edge(state, next_state, weight=reward, action=action)\n",
    "\n",
    "\n",
    "# nx.shortest_path ile en kısa yol\n",
    "shortest_path = nx.shortest_path(G, source=start_state, target=env.encode(1, 4, 4, 0))\n",
    "\n",
    "# Oyun döngüsü\n",
    "total_reward = 0\n",
    "start_time = time.time()\n",
    "time_limit = 60 \n",
    "for i in range(len(shortest_path) - 1):\n",
    "    if time.time() - start_time > time_limit:\n",
    "        break  \n",
    "    \n",
    "    state = shortest_path[i]\n",
    "    next_state = shortest_path[i + 1]\n",
    "    \n",
    "    # En kısa yol üzerindeki aksiyonu al\n",
    "    edge_data = G[state][next_state]\n",
    "    action = edge_data['action']\n",
    "    \n",
    "    # action ve sonucu al\n",
    "    result = env.step(action)\n",
    "    next_state, reward, done, _ = result[:4]\n",
    "    total_reward += reward  \n",
    "    env.render()\n",
    "    time.sleep(0.5)\n",
    "\n",
    "env.close()"
   ]
  }
 ],
 "metadata": {
  "kernelspec": {
   "display_name": "Python 3 (ipykernel)",
   "language": "python",
   "name": "python3"
  },
  "language_info": {
   "codemirror_mode": {
    "name": "ipython",
    "version": 3
   },
   "file_extension": ".py",
   "mimetype": "text/x-python",
   "name": "python",
   "nbconvert_exporter": "python",
   "pygments_lexer": "ipython3",
   "version": "3.11.5"
  }
 },
 "nbformat": 4,
 "nbformat_minor": 5
}
